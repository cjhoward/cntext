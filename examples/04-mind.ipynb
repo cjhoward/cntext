{
 "cells": [
  {
   "cell_type": "markdown",
   "id": "b6ee1938",
   "metadata": {},
   "source": [
    "[**Grand, G., Blank, I.A., Pereira, F. and Fedorenko, E., 2022. Semantic projection recovers rich human knowledge of multiple object features from word embeddings. _Nature Human Behaviour_, pp.1-13.m**](https://www.nature.com/articles/s41562-022-01316-8)"
   ]
  },
  {
   "cell_type": "code",
   "execution_count": 2,
   "id": "7f8a956c",
   "metadata": {
    "collapsed": true
   },
   "outputs": [
    {
     "name": "stdout",
     "output_type": "stream",
     "text": [
      "Help on class Text2Mind in module cntext.mind:\n",
      "\n",
      "class Text2Mind(builtins.object)\n",
      " |  Text2Mind(w2v_model_path='glove_w2v.6B.100d.txt')\n",
      " |  \n",
      " |  Calculate cognitive (attitude, bias) direction and strength in text\n",
      " |  \n",
      " |  Methods defined here:\n",
      " |  \n",
      " |  __init__(self, w2v_model_path='glove_w2v.6B.100d.txt')\n",
      " |      Init the Text2Mind\n",
      " |      :param w2v_model_path:  pretained embedding model file path, only support word2vec format pretained model！\n",
      " |  \n",
      " |  get_vector(self, word)\n",
      " |      get word vector\n",
      " |  \n",
      " |  k2v_model(self, word)\n",
      " |      get the KeyedVectors from Text2Mind Object.\n",
      " |  \n",
      " |  sematic_distance(self, words, c_words1, c_words2)\n",
      " |      Calculate the distance from words with c_words1 and c_words2 respectively, and return the difference between the two distance.\n",
      " |      Greater than 0 means semantically closer to c_words2\n",
      " |      \n",
      " |      :param words: words list, words = ['program', 'software', 'computer']\n",
      " |      :param c_words1: concept words1, c_words1 = [\"man\", \"he\", \"him\"]\n",
      " |      :param c_words2: concept words2, c_words2 = [\"woman\", \"she\", \"her\"]\n",
      " |      :return:\n",
      " |  \n",
      " |  sematic_projection(self, words, c_words1, c_words2)\n",
      " |      Calculate the projected length of each word in the concept vector.Note that the calculation result reflects the direction of concept.\n",
      " |      Greater than 0 means semantically closer to c_words2.\n",
      " |      \n",
      " |      Refer \"Grand, G., Blank, I.A., Pereira, F. and Fedorenko, E., 2022. Semantic projection recovers rich human knowledge of multiple object features from word embeddings. _Nature Human Behaviour_, pp.1-13.\"\n",
      " |      \n",
      " |      For example, in the size concept, if you want positive means big, and negative means small,\n",
      " |      you should set c_words1 = [\"small\", \"little\", \"tiny\"] c_words2 = [\"large\", \"big\", \"huge\"].\n",
      " |      \n",
      " |      :param words: words list\n",
      " |      :param c_words1: concept words1, c_words1 = [\"small\", \"little\", \"tiny\"]\n",
      " |      :param c_words2: concept words2, c_words2 = [\"large\", \"big\", \"huge\"]\n",
      " |      :param c_vector: concept_vector; the result of .build_concept(c_words1, c_words2)\n",
      " |      :return:\n",
      " |  \n",
      " |  ----------------------------------------------------------------------\n",
      " |  Data descriptors defined here:\n",
      " |  \n",
      " |  __dict__\n",
      " |      dictionary for instance variables (if defined)\n",
      " |  \n",
      " |  __weakref__\n",
      " |      list of weak references to the object (if defined)\n",
      "\n"
     ]
    }
   ],
   "source": [
    "import cntext as ct\n",
    "\n",
    "help(ct.Text2Mind)"
   ]
  },
  {
   "cell_type": "markdown",
   "id": "cc08f1f7",
   "metadata": {},
   "source": [
    "glove_w2v.6B.100d.txt link\n",
    "- google driver https://drive.google.com/file/d/1tuQB9PDx42z67ScEQrg650aDTYPz-elJ/view?usp=sharing\n",
    "- baidu pan 链接: https://pan.baidu.com/s/1MMfQ7M0YCzL9Klp4zrlHBw 提取码: 72l0 "
   ]
  },
  {
   "cell_type": "code",
   "execution_count": 5,
   "id": "4ccb9bcf",
   "metadata": {},
   "outputs": [
    {
     "name": "stdout",
     "output_type": "stream",
     "text": [
      "Loading the model of data/glove_w2v.6B.100d.txt\n",
      "Load successfully, used 19.3 s\n"
     ]
    },
    {
     "data": {
      "text/plain": [
       "<cntext.mind.Text2Mind at 0x7ff27eb1aca0>"
      ]
     },
     "execution_count": 5,
     "metadata": {},
     "output_type": "execute_result"
    }
   ],
   "source": [
    "tm = ct.Text2Mind(w2v_model_path='data/glove_w2v.6B.100d.txt')\n",
    "tm"
   ]
  },
  {
   "cell_type": "code",
   "execution_count": 7,
   "id": "1bea5fbf",
   "metadata": {
    "collapsed": true
   },
   "outputs": [
    {
     "data": {
      "text/plain": [
       "array([-0.093207 ,  0.049685 ,  0.25748  , -0.52501  , -0.18009  ,\n",
       "        0.46888  ,  0.26035  , -0.48446  , -0.020865 , -1.0212   ,\n",
       "       -0.64204  ,  0.062146 ,  0.17611  , -0.52184  ,  0.58968  ,\n",
       "        1.5466   , -0.41889  ,  0.75056  ,  1.2493   , -0.25239  ,\n",
       "       -0.2754   ,  0.09436  ,  0.65851  , -0.56188  ,  0.89223  ,\n",
       "        0.82503  , -0.58903  , -0.70064  , -0.22958  ,  0.036496 ,\n",
       "        0.38533  ,  0.82237  ,  0.028273 ,  0.53326  ,  1.044    ,\n",
       "        0.4135   , -0.62624  , -0.19907  ,  0.62684  , -0.19368  ,\n",
       "        0.071461 , -0.056608 , -0.62716  , -0.2199   , -0.70554  ,\n",
       "        0.75693  , -0.33047  ,  0.24822  , -0.3346   ,  0.41343  ,\n",
       "       -0.50889  ,  0.17117  ,  0.1932   ,  0.41795  , -0.20431  ,\n",
       "       -1.4853   , -0.82154  ,  0.069956 ,  0.0020854,  0.31096  ,\n",
       "        0.45284  ,  1.1481   ,  0.089534 ,  0.17282  ,  0.56481  ,\n",
       "        1.0016   , -0.38561  ,  0.23814  ,  0.659    ,  0.207    ,\n",
       "       -0.13688  ,  0.049653 ,  0.019835 , -0.66544  , -0.36596  ,\n",
       "        0.39073  , -0.18377  ,  0.21837  ,  0.042889 ,  0.79193  ,\n",
       "       -0.099797 , -0.20613  , -0.44603  ,  0.17225  , -1.2574   ,\n",
       "        1.0849   ,  0.9162   , -0.17695  ,  0.56489  , -0.017692 ,\n",
       "       -0.045254 ,  0.45863  ,  0.47844  , -0.16078  ,  0.0030882,\n",
       "       -0.092954 , -0.49607  , -0.58809  ,  0.77727  , -0.67031  ],\n",
       "      dtype=float32)"
      ]
     },
     "execution_count": 7,
     "metadata": {},
     "output_type": "execute_result"
    }
   ],
   "source": [
    "tm.get_vector('mouse')"
   ]
  },
  {
   "cell_type": "code",
   "execution_count": 6,
   "id": "d6456d1d",
   "metadata": {},
   "outputs": [
    {
     "data": {
      "text/plain": [
       "[('mouse', -1.68),\n",
       " ('cat', -0.92),\n",
       " ('pig', -0.46),\n",
       " ('whale', -0.24),\n",
       " ('horse', 0.4)]"
      ]
     },
     "execution_count": 6,
     "metadata": {},
     "output_type": "execute_result"
    }
   ],
   "source": [
    "animals = ['mouse', 'cat', 'horse',  'pig', 'whale']\n",
    "smalls = [\"small\", \"little\", \"tiny\"]\n",
    "bigs = [\"large\", \"big\", \"huge\"]\n",
    "\n",
    "# In size conception, mouse is smallest, horse is biggest.\n",
    "# 在大小概念上，老鼠最小，马是最大的。\n",
    "tm.sematic_projection(words=animals, \n",
    "                      c_words1=smalls, \n",
    "                      c_words2=bigs)"
   ]
  },
  {
   "cell_type": "code",
   "execution_count": 4,
   "id": "012c3b8e",
   "metadata": {},
   "outputs": [
    {
     "data": {
      "text/plain": [
       "-0.37"
      ]
     },
     "execution_count": 4,
     "metadata": {},
     "output_type": "execute_result"
    }
   ],
   "source": [
    "engineer = ['program', 'software', 'computer']\n",
    "mans =  [\"man\", \"he\", \"him\"]\n",
    "womans = [\"woman\", \"she\", \"her\"]\n",
    "\n",
    "#在语义空间中，工程师更接近于男人，而不是女人。\n",
    "#in semantic space, engineer is closer to man, other than woman.\n",
    "tm.sematic_distance(words=animals, \n",
    "                    c_words1=mans, \n",
    "                    c_words2=womans)"
   ]
  },
  {
   "cell_type": "code",
   "execution_count": null,
   "id": "bdddf0d1",
   "metadata": {},
   "outputs": [],
   "source": []
  },
  {
   "cell_type": "markdown",
   "id": "f4093d09",
   "metadata": {},
   "source": [
    "## divergent association task\n",
    "Olson, J. A., Nahas, J., Chmoulevitch, D., Cropper, S. J., & Webb, M. E. (2021). Naming unrelated words predicts creativity. Proceedings of the National Academy of Sciences, 118(25), e2022340118."
   ]
  },
  {
   "cell_type": "code",
   "execution_count": null,
   "id": "5a4d4b23",
   "metadata": {},
   "outputs": [],
   "source": [
    "words = ['good', 'happy', 'bad', 'sad', 'sorrow', 'china', 'english', 'computer', 'german', 'king']\n",
    "\n",
    "tm.divergent_association_task(words)"
   ]
  }
 ],
 "metadata": {
  "kernelspec": {
   "display_name": "Python 3.9.12 ('base')",
   "language": "python",
   "name": "python3"
  },
  "language_info": {
   "codemirror_mode": {
    "name": "ipython",
    "version": 3
   },
   "file_extension": ".py",
   "mimetype": "text/x-python",
   "name": "python",
   "nbconvert_exporter": "python",
   "pygments_lexer": "ipython3",
   "version": "3.9.12"
  },
  "toc": {
   "base_numbering": 1,
   "nav_menu": {},
   "number_sections": true,
   "sideBar": true,
   "skip_h1_title": false,
   "title_cell": "Table of Contents",
   "title_sidebar": "Contents",
   "toc_cell": false,
   "toc_position": {},
   "toc_section_display": true,
   "toc_window_display": false
  },
  "vscode": {
   "interpreter": {
    "hash": "39efd68f93e60613a22adb0a24f8974eb44aba5452699b12e52bf7b8f47c9669"
   }
  }
 },
 "nbformat": 4,
 "nbformat_minor": 5
}
